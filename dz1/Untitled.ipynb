{
 "cells": [
  {
   "cell_type": "code",
   "execution_count": 44,
   "id": "a3706252",
   "metadata": {},
   "outputs": [
    {
     "name": "stdout",
     "output_type": "stream",
     "text": [
      "[[127244     60     16]\n",
      " [ 23891     25      7]\n",
      " [ 94746     10      6]\n",
      " [ 67660      5      6]\n",
      " [157911     60     14]]\n"
     ]
    }
   ],
   "source": [
    "# НОМЕР 1\n",
    "import numpy as np\n",
    "data = np.loadtxt('minutes_n_ingredients.csv', delimiter=',', skiprows=1, dtype=np.int32)\n",
    "\n",
    "print(data[:5])"
   ]
  },
  {
   "cell_type": "code",
   "execution_count": 45,
   "id": "4a45a7e9",
   "metadata": {},
   "outputs": [
    {
     "name": "stdout",
     "output_type": "stream",
     "text": [
      "Средние значения по столбцам (кроме первого): [2.16010017e+04 9.05528000e+00]\n",
      "Минимальные значения по столбцам (кроме первого): [0 1]\n",
      "Максимальные значения по столбцам (кроме первого): [2147483647         39]\n",
      "Медианы по столбцам (кроме первого): [40.  9.]\n"
     ]
    }
   ],
   "source": [
    "#НОМЕР 2\n",
    "import numpy as np\n",
    "data = np.loadtxt('minutes_n_ingredients.csv', delimiter=',', skiprows=1, dtype=np.int32)\n",
    "\n",
    "mean_znac = np.mean(data[:, 1:], axis=0)\n",
    "min_znac = np.min(data[:, 1:], axis=0)\n",
    "max_znac = np.max(data[:, 1:], axis=0)\n",
    "median_znac = np.median(data[:, 1:], axis=0)\n",
    "\n",
    "print(\"Средние значения по столбцам (кроме первого):\", mean_znac)\n",
    "print(\"Минимальные значения по столбцам (кроме первого):\", min_znac)\n",
    "print(\"Максимальные значения по столбцам (кроме первого):\", max_znac)\n",
    "print(\"Медианы по столбцам (кроме первого):\", median_znac)\n"
   ]
  },
  {
   "cell_type": "code",
   "execution_count": 46,
   "id": "40d2ae80",
   "metadata": {},
   "outputs": [
    {
     "name": "stdout",
     "output_type": "stream",
     "text": [
      "[[127244     60     16]\n",
      " [ 23891     25      7]\n",
      " [ 94746     10      6]\n",
      " ...\n",
      " [498432     65     15]\n",
      " [370915      5      4]\n",
      " [ 81993     65     14]]\n"
     ]
    }
   ],
   "source": [
    "#НОМЕР 3\n",
    "import numpy as np\n",
    "data = np.loadtxt('minutes_n_ingredients.csv', delimiter=',', skiprows=1, dtype=np.int32)\n",
    "\n",
    "q75 = np.quantile(data[:,1], 0.75)\n",
    "data[:,1] = np.minimum(data[:,1],q75)\n",
    "print(data)"
   ]
  },
  {
   "cell_type": "code",
   "execution_count": 47,
   "id": "190e8002",
   "metadata": {},
   "outputs": [
    {
     "name": "stdout",
     "output_type": "stream",
     "text": [
      "Число рецептов с продолжительностью, равной нулю: 479\n",
      "[[127244     60     16]\n",
      " [ 23891     25      7]\n",
      " [ 94746     10      6]\n",
      " ...\n",
      " [498432     65     15]\n",
      " [370915      5      4]\n",
      " [ 81993    140     14]]\n"
     ]
    }
   ],
   "source": [
    "#НОМЕР 4\n",
    "import numpy as np\n",
    "data = np.loadtxt('minutes_n_ingredients.csv', delimiter=',', skiprows=1, dtype=np.int32)\n",
    "\n",
    "zero_duration_count = np.count_nonzero(data[:, 1] == 0)\n",
    "data[:, 1][data[:, 1] == 0] = 1\n",
    "\n",
    "print(f\"Число рецептов с продолжительностью, равной нулю: {zero_duration_count}\")\n",
    "print(data)"
   ]
  },
  {
   "cell_type": "code",
   "execution_count": 48,
   "id": "08728532",
   "metadata": {},
   "outputs": [
    {
     "name": "stdout",
     "output_type": "stream",
     "text": [
      "Количество уникальных рецептов в датасете: 100000\n"
     ]
    }
   ],
   "source": [
    "#НОМЕР 5\n",
    "\n",
    "import numpy as np\n",
    "data = np.loadtxt('minutes_n_ingredients.csv', delimiter=',', skiprows=1, dtype=np.int32)\n",
    "# Извлечение уникальных идентификаторов рецептов\n",
    "unique_recipes = np.unique(data[:, 0])\n",
    "\n",
    "# Подсчет количества уникальных рецептов\n",
    "unique_recipes_count = len(unique_recipes)\n",
    "\n",
    "# Вывод количества уникальных рецептов\n",
    "print(\"Количество уникальных рецептов в датасете:\", unique_recipes_count) "
   ]
  },
  {
   "cell_type": "code",
   "execution_count": 49,
   "id": "2512534a",
   "metadata": {},
   "outputs": [
    {
     "name": "stdout",
     "output_type": "stream",
     "text": [
      "Различных значений количества ингредиентов: 656\n",
      "Уникальные значения количества ингредиентов: [         0          1          2          3          4          5\n",
      "          6          7          8          9         10         11\n",
      "         12         13         14         15         16         17\n",
      "         18         19         20         21         22         23\n",
      "         24         25         26         27         28         29\n",
      "         30         31         32         33         34         35\n",
      "         36         37         38         39         40         41\n",
      "         42         43         44         45         46         47\n",
      "         48         49         50         51         52         53\n",
      "         54         55         56         57         58         59\n",
      "         60         61         62         63         64         65\n",
      "         66         67         68         69         70         71\n",
      "         72         73         74         75         76         77\n",
      "         78         79         80         81         82         83\n",
      "         84         85         86         87         88         89\n",
      "         90         91         92         93         94         95\n",
      "         96         97         98         99        100        101\n",
      "        102        103        104        105        106        107\n",
      "        108        109        110        111        112        114\n",
      "        115        116        117        118        120        121\n",
      "        122        123        124        125        126        127\n",
      "        128        129        130        132        134        135\n",
      "        136        137        138        140        141        142\n",
      "        143        144        145        147        149        150\n",
      "        151        152        153        154        155        156\n",
      "        157        158        159        160        161        162\n",
      "        164        165        166        168        170        171\n",
      "        172        173        174        175        176        177\n",
      "        178        180        181        182        183        184\n",
      "        185        186        187        188        189        190\n",
      "        192        193        195        196        197        200\n",
      "        201        204        205        206        209        210\n",
      "        212        213        214        215        217        218\n",
      "        220        221        222        223        225        228\n",
      "        230        235        240        241        242        243\n",
      "        245        246        247        248        250        252\n",
      "        254        255        256        257        258        260\n",
      "        265        270        272        275        277        278\n",
      "        280        284        285        289        290        295\n",
      "        300        301        302        303        304        305\n",
      "        306        307        308        310        312        314\n",
      "        315        318        319        320        321        325\n",
      "        330        335        340        345        350        360\n",
      "        362        363        365        366        367        368\n",
      "        369        370        372        375        376        380\n",
      "        381        382        385        390        394        395\n",
      "        400        405        410        415        420        421\n",
      "        425        430        432        435        440        445\n",
      "        450        455        460        465        470        475\n",
      "        480        481        482        483        484        485\n",
      "        486        487        488        490        492        494\n",
      "        495        497        500        505        507        510\n",
      "        512        515        516        520        524        525\n",
      "        526        530        535        538        540        541\n",
      "        545        550        555        560        565        570\n",
      "        576        580        585        590        600        602\n",
      "        603        605        607        608        610        612\n",
      "        615        620        625        630        635        640\n",
      "        645        648        650        660        665        670\n",
      "        675        680        690        693        705        710\n",
      "        720        722        725        728        729        730\n",
      "        735        740        745        750        755        760\n",
      "        765        770        775        780        785        790\n",
      "        795        800        805        810        825        830\n",
      "        834        840        843        848        850        855\n",
      "        856        860        870        885        900        902\n",
      "        915        920        930        940        945        960\n",
      "        964        970        975        980        990       1020\n",
      "       1030       1040       1080       1090       1095       1105\n",
      "       1110       1125       1140       1160       1170       1200\n",
      "       1210       1215       1220       1230       1235       1245\n",
      "       1260       1272       1280       1290       1330       1425\n",
      "       1440       1441       1442       1443       1444       1445\n",
      "       1447       1448       1449       1450       1452       1454\n",
      "       1455       1456       1460       1462       1465       1470\n",
      "       1475       1480       1485       1490       1495       1500\n",
      "       1504       1505       1510       1515       1520       1525\n",
      "       1530       1535       1540       1545       1550       1560\n",
      "       1562       1575       1580       1590       1595       1620\n",
      "       1680       1685       1695       1725       1740       1770\n",
      "       1800       1810       1815       1820       1830       1850\n",
      "       1860       1865       1875       1890       1920       1935\n",
      "       1980       2040       2160       2165       2190       2220\n",
      "       2295       2340       2400       2410       2415       2430\n",
      "       2490       2640       2880       2881       2885       2887\n",
      "       2890       2892       2895       2900       2905       2910\n",
      "       2920       2925       2930       2940       2950       2955\n",
      "       2970       3000       3030       3035       3060       3070\n",
      "       3120       3180       3240       3360       3390       3610\n",
      "       3615       4080       4215       4320       4321       4325\n",
      "       4330       4335       4340       4345       4350       4355\n",
      "       4365       4380       4385       4415       4440       4500\n",
      "       4545       4560       4590       4620       4920       5040\n",
      "       5350       5760       5765       5770       5775       5780\n",
      "       5790       5820       5850       5880       7200       7205\n",
      "       7210       7215       7220       7225       7230       7440\n",
      "       8640       8650       8655       8675       8760       9015\n",
      "       9120       9740      10080      10082      10085      10090\n",
      "      10095      10100      10105      10110      10140      10320\n",
      "      10440      11520      11521      11550      11565      14405\n",
      "      14420      14425      14430      14450      14460      15880\n",
      "      15900      17310      18720      18725      20160      20161\n",
      "      20163      20165      20170      20175      20190      20280\n",
      "      20340      21600      21690      23050      26100      28810\n",
      "      30240      30255      30270      34570      36015      40325\n",
      "      41775      43200      43202      43205      43230      43250\n",
      "      43380      44645      44655      50405      60540      60555\n",
      "      64815      69120      86400      86405     115230     129615\n",
      "     129620     132495     146880     201610     216015     259205\n",
      "     259260 2147483647]\n"
     ]
    }
   ],
   "source": [
    "#НОМЕР 6\n",
    "import numpy as np\n",
    "data = np.loadtxt('minutes_n_ingredients.csv', delimiter=',', skiprows=1, dtype=np.int32)\n",
    "# Извлечение уникальных значений количества ингредиентов\n",
    "unique_ingredient_counts = np.unique(data[:, 1])\n",
    "\n",
    "# Подсчет количества различных значений количества ингредиентов\n",
    "different_ingredient_count = len(unique_ingredient_counts)\n",
    "\n",
    "# Вывод количества и различных значений количества ингредиентов\n",
    "print(\"Различных значений количества ингредиентов:\", different_ingredient_count)\n",
    "print(\"Уникальные значения количества ингредиентов:\", unique_ingredient_counts)"
   ]
  },
  {
   "cell_type": "code",
   "execution_count": 53,
   "id": "19c486ef",
   "metadata": {},
   "outputs": [
    {
     "name": "stdout",
     "output_type": "stream",
     "text": [
      "           id  minutes  n_ingredients\n",
      "58386  145627       60             11\n",
      "71796  406576       30             10\n",
      "36327   90775      190              9\n",
      "10705   42007       40             14\n",
      "82461  445214       17              6\n",
      "3799    23320       20              3\n",
      "13306  119374       70              7\n",
      "40626  100402       44             12\n",
      "95691  319275       90             22\n",
      "49986   53872       70             15\n"
     ]
    }
   ],
   "source": [
    "#НОМЕР 10\n",
    "import pandas as pd\n",
    "# Загружаем данные из файла\n",
    "data = pd.read_csv('minutes_n_ingredients.csv')\n",
    "\n",
    "# Выбираем случайные 10 различных рецептов\n",
    "random_recipes = data.sample(n=10).drop_duplicates()\n",
    "\n",
    "# Выводим информацию о выбранных рецептах\n",
    "print(random_recipes)\n"
   ]
  },
  {
   "cell_type": "code",
   "execution_count": 19,
   "id": "e378d24e",
   "metadata": {},
   "outputs": [
    {
     "name": "stdout",
     "output_type": "stream",
     "text": [
      "Процент рецептов с количеством ингредиентов меньше среднего: 58.80%\n"
     ]
    }
   ],
   "source": [
    "#НОМЕР 11\n",
    "import pandas as pd\n",
    "\n",
    "data = pd.read_csv('minutes_n_ingredients.csv')\n",
    "\n",
    "mean_ingredients = data['n_ingredients'].mean()\n",
    "less_than_mean = data[data['n_ingredients'] < mean_ingredients]\n",
    "percentage = (len(less_than_mean) / len(data)) * 100\n",
    "\n",
    "print(f\"Процент рецептов с количеством ингредиентов меньше среднего: {percentage:.2f}%\")"
   ]
  },
  {
   "cell_type": "code",
   "execution_count": 54,
   "id": "8c5863a1",
   "metadata": {},
   "outputs": [],
   "source": [
    "#НОМЕР 12\n",
    "import pandas as pd\n",
    "\n",
    "# Загружаем данные из файла\n",
    "data = pd.read_csv('minutes_n_ingredients.csv')\n",
    "\n",
    "# Создаем новый столбец 'simple_recipe' со значениями 1 или 0 в зависимости от условий\n",
    "data['simple_recipe'] = (data['minutes'] <= 20) & (data['n_ingredients'] <= 5)\n",
    "\n",
    "# Преобразуем булевы значения в целочисленные (1 или 0)\n",
    "data['simple_recipe'] = data['simple_recipe'].astype(int)\n",
    "\n",
    "# Сохраняем обновленный датасет в новый файл\n",
    "data.to_csv('recipes_with_simple_flag.csv', index=False)"
   ]
  },
  {
   "cell_type": "code",
   "execution_count": 55,
   "id": "7d45e9d2",
   "metadata": {},
   "outputs": [
    {
     "name": "stdout",
     "output_type": "stream",
     "text": [
      "Процент \"простых\" рецептов в датасете: 9.55%\n"
     ]
    }
   ],
   "source": [
    "#НОМЕР 13\n",
    "import pandas as pd\n",
    "\n",
    "# Загружаем данные из файла с созданным столбцом 'simple_recipe'\n",
    "data = pd.read_csv('recipes_with_simple_flag.csv')\n",
    "\n",
    "# Вычисляем количество \"простых\" рецептов\n",
    "simple_recipe_count = data['simple_recipe'].sum()\n",
    "\n",
    "# Вычисляем общее количество рецептов в датасете\n",
    "total_recipes = len(data)\n",
    "\n",
    "# Вычисляем процент \"простых\" рецептов\n",
    "simple_recipe_percentage = (simple_recipe_count / total_recipes) * 100\n",
    "\n",
    "print(f'Процент \"простых\" рецептов в датасете: {simple_recipe_percentage:.2f}%')"
   ]
  },
  {
   "cell_type": "code",
   "execution_count": 50,
   "id": "6ed4b439",
   "metadata": {},
   "outputs": [
    {
     "name": "stdout",
     "output_type": "stream",
     "text": [
      "Количество рецептов, состоящих не более чем из 5 ингредиентов: 6343\n"
     ]
    }
   ],
   "source": [
    "#НОМЕР 7\n",
    "import numpy as np\n",
    "data = np.loadtxt('minutes_n_ingredients.csv', delimiter=',', skiprows=1, dtype=np.int32)\n",
    "# Создание нового массива, содержащего информацию только о рецептах с не более чем 5 ингредиентами\n",
    "filtered_data = data[data[:, 1] <= 5]\n",
    "\n",
    "# Сохранение отфильтрованных данных в новом файле\n",
    "np.savetxt('filtered_recipes.csv', filtered_data, fmt='%d', delimiter=',')\n",
    "\n",
    "# Вывод информации о количестве отфильтрованных рецептов\n",
    "print(\"Количество рецептов, состоящих не более чем из 5 ингредиентов:\", len(filtered_data))"
   ]
  },
  {
   "cell_type": "code",
   "execution_count": 51,
   "id": "5ef469c2",
   "metadata": {},
   "outputs": [
    {
     "name": "stdout",
     "output_type": "stream",
     "text": [
      "Максимальное значение среднего количества ингредиентов на одну минуту: 8207.560747877866\n"
     ]
    }
   ],
   "source": [
    "#НОМЕР 8\n",
    "import numpy as np\n",
    "data = np.loadtxt('minutes_n_ingredients.csv', delimiter=',', skiprows=1, dtype=np.int32)\n",
    "# Вычисление среднего количества ингредиентов на одну минуту для каждого рецепта\n",
    "ingredients_per_minute = data[:, 1] / data[:, 0]\n",
    "\n",
    "# Нахождение максимального значения среднего количества ингредиентов на одну минуту\n",
    "max_avg_ingredients_per_minute = np.max(ingredients_per_minute)\n",
    "\n",
    "# Вывод максимального значения этой величины для всего датасета\n",
    "print(\"Максимальное значение среднего количества ингредиентов на одну минуту:\", max_avg_ingredients_per_minute) "
   ]
  },
  {
   "cell_type": "code",
   "execution_count": 52,
   "id": "52333692",
   "metadata": {},
   "outputs": [
    {
     "name": "stdout",
     "output_type": "stream",
     "text": [
      "Среднее количество ингредиентов для топ-100 рецептов с наибольшей продолжительностью: 156.62\n"
     ]
    }
   ],
   "source": [
    "#НОМЕР 9\n",
    "import numpy as np\n",
    "data = np.loadtxt('minutes_n_ingredients.csv', delimiter=',', skiprows=1, dtype=np.int32)\n",
    "# Сортировка данных по продолжительности приготовления в убывающем порядке\n",
    "sorted_data = data[data[:, 0].argsort()][::-1]\n",
    "\n",
    "# Выбор топ-100 рецептов с наибольшей продолжительностью\n",
    "top_100_recipes = sorted_data[:100]\n",
    "\n",
    "# Вычисление среднего количества ингредиентов для топ-100 рецептов\n",
    "mean_ingredients_top_100 = np.mean(top_100_recipes[:, 1])\n",
    "\n",
    "# Вывод среднего количества ингредиентов для топ-100 рецептов\n",
    "print(\"Среднее количество ингредиентов для топ-100 рецептов с наибольшей продолжительностью:\", mean_ingredients_top_100) "
   ]
  },
  {
   "cell_type": "code",
   "execution_count": 58,
   "id": "c0124be5",
   "metadata": {},
   "outputs": [
    {
     "name": "stdout",
     "output_type": "stream",
     "text": [
      "Форма трехмерного массива: (3, 45, 4)\n"
     ]
    }
   ],
   "source": [
    "#НОМЕР 14\n",
    "import numpy as np\n",
    "\n",
    "# Предположим, что у вас есть DataFrame 'data' с информацией о рецептах\n",
    "\n",
    "# Выберем индексы рецептов для каждой группы\n",
    "short_recipes_indices = data[data['minutes'] < 10].index[:10]\n",
    "standard_recipes_indices = data[(data['minutes'] >= 10) & (data['minutes'] < 20)].index[:15]\n",
    "long_recipes_indices = data[data['minutes'] >= 20].index[:20]\n",
    "\n",
    "# Создадим трехмерный массив\n",
    "max_short = len(short_recipes_indices)\n",
    "max_standard = len(standard_recipes_indices)\n",
    "max_long = len(long_recipes_indices)\n",
    "\n",
    "three_dim_array = np.zeros((3, max_short + max_standard + max_long, len(data.columns)))\n",
    "\n",
    "# Заполним массив данными\n",
    "for i, idx in enumerate(short_recipes_indices):\n",
    "    three_dim_array[0, i] = data.loc[idx]\n",
    "\n",
    "for i, idx in enumerate(standard_recipes_indices):\n",
    "    three_dim_array[1, i] = data.loc[idx]\n",
    "\n",
    "for i, idx in enumerate(long_recipes_indices):\n",
    "    three_dim_array[2, i] = data.loc[idx]\n",
    "\n",
    "print(f'Форма трехмерного массива: {three_dim_array.shape}')"
   ]
  },
  {
   "cell_type": "code",
   "execution_count": null,
   "id": "51f8b20b",
   "metadata": {},
   "outputs": [],
   "source": []
  }
 ],
 "metadata": {
  "kernelspec": {
   "display_name": "Python 3 (ipykernel)",
   "language": "python",
   "name": "python3"
  },
  "language_info": {
   "codemirror_mode": {
    "name": "ipython",
    "version": 3
   },
   "file_extension": ".py",
   "mimetype": "text/x-python",
   "name": "python",
   "nbconvert_exporter": "python",
   "pygments_lexer": "ipython3",
   "version": "3.11.5"
  }
 },
 "nbformat": 4,
 "nbformat_minor": 5
}
